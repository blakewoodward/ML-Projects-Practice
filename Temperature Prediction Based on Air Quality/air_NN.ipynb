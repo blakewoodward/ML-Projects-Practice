{
 "cells": [
  {
   "cell_type": "code",
   "execution_count": 38,
   "metadata": {},
   "outputs": [],
   "source": [
    "import pandas as pd \n",
    "import numpy as np \n",
    "import matplotlib.pyplot as plt \n",
    "import seaborn as sns \n",
    "from sklearn.model_selection import train_test_split\n",
    "from sklearn.preprocessing import MinMaxScaler \n",
    "from sklearn.metrics import mean_squared_error, r2_score\n",
    "import tensorflow as tf \n",
    "import tensorflow.keras as kr \n",
    "from tensorflow.keras import Sequential\n",
    "from tensorflow.keras.layers import Dense, Dropout \n",
    "\n",
    "sns.set()\n",
    "pd.set_option(\"chained_assignment\", None)"
   ]
  },
  {
   "cell_type": "code",
   "execution_count": 2,
   "metadata": {},
   "outputs": [
    {
     "name": "stdout",
     "output_type": "stream",
     "text": [
      "<class 'pandas.core.frame.DataFrame'>\n",
      "Int64Index: 7796 entries, 0 to 7795\n",
      "Data columns (total 26 columns):\n",
      " #   Column             Non-Null Count  Dtype  \n",
      "---  ------             --------------  -----  \n",
      " 0   Date               7796 non-null   object \n",
      " 1   CO(GT)             7796 non-null   float64\n",
      " 2   PT08.S1(CO)        7796 non-null   float64\n",
      " 3   NMHC(GT)           7796 non-null   float64\n",
      " 4   C6H6(GT)           7796 non-null   float64\n",
      " 5   PT08.S2(NMHC)      7796 non-null   float64\n",
      " 6   NOx(GT)            7796 non-null   float64\n",
      " 7   PT08.S3(NOx)       7796 non-null   float64\n",
      " 8   NO2(GT)            7796 non-null   float64\n",
      " 9   PT08.S4(NO2)       7796 non-null   float64\n",
      " 10  PT08.S5(O3)        7796 non-null   float64\n",
      " 11  Temp_c             7796 non-null   float64\n",
      " 12  Relative_humidity  7796 non-null   float64\n",
      " 13  Absolute_humidity  7796 non-null   float64\n",
      " 14  day                7796 non-null   int64  \n",
      " 15  Feb                7796 non-null   int64  \n",
      " 16  Mar                7796 non-null   int64  \n",
      " 17  Apr                7796 non-null   int64  \n",
      " 18  May                7796 non-null   int64  \n",
      " 19  Jun                7796 non-null   int64  \n",
      " 20  Jul                7796 non-null   int64  \n",
      " 21  Aug                7796 non-null   int64  \n",
      " 22  Sep                7796 non-null   int64  \n",
      " 23  Oct                7796 non-null   int64  \n",
      " 24  Nov                7796 non-null   int64  \n",
      " 25  Dec                7796 non-null   int64  \n",
      "dtypes: float64(13), int64(12), object(1)\n",
      "memory usage: 1.6+ MB\n"
     ]
    }
   ],
   "source": [
    "data = pd.read_csv(r\"ModelingAirQualityData.csv\", index_col=0)\n",
    "data.info()"
   ]
  },
  {
   "cell_type": "code",
   "execution_count": 3,
   "metadata": {},
   "outputs": [
    {
     "data": {
      "text/html": [
       "<div>\n",
       "<style scoped>\n",
       "    .dataframe tbody tr th:only-of-type {\n",
       "        vertical-align: middle;\n",
       "    }\n",
       "\n",
       "    .dataframe tbody tr th {\n",
       "        vertical-align: top;\n",
       "    }\n",
       "\n",
       "    .dataframe thead th {\n",
       "        text-align: right;\n",
       "    }\n",
       "</style>\n",
       "<table border=\"1\" class=\"dataframe\">\n",
       "  <thead>\n",
       "    <tr style=\"text-align: right;\">\n",
       "      <th></th>\n",
       "      <th>Date</th>\n",
       "      <th>CO(GT)</th>\n",
       "      <th>PT08.S1(CO)</th>\n",
       "      <th>NMHC(GT)</th>\n",
       "      <th>C6H6(GT)</th>\n",
       "      <th>PT08.S2(NMHC)</th>\n",
       "      <th>NOx(GT)</th>\n",
       "      <th>PT08.S3(NOx)</th>\n",
       "      <th>NO2(GT)</th>\n",
       "      <th>PT08.S4(NO2)</th>\n",
       "      <th>...</th>\n",
       "      <th>Apr</th>\n",
       "      <th>May</th>\n",
       "      <th>Jun</th>\n",
       "      <th>Jul</th>\n",
       "      <th>Aug</th>\n",
       "      <th>Sep</th>\n",
       "      <th>Oct</th>\n",
       "      <th>Nov</th>\n",
       "      <th>Dec</th>\n",
       "      <th>night</th>\n",
       "    </tr>\n",
       "  </thead>\n",
       "  <tbody>\n",
       "  </tbody>\n",
       "</table>\n",
       "<p>0 rows × 27 columns</p>\n",
       "</div>"
      ],
      "text/plain": [
       "Empty DataFrame\n",
       "Columns: [Date, CO(GT), PT08.S1(CO), NMHC(GT), C6H6(GT), PT08.S2(NMHC), NOx(GT), PT08.S3(NOx), NO2(GT), PT08.S4(NO2), PT08.S5(O3), Temp_c, Relative_humidity, Absolute_humidity, day, Feb, Mar, Apr, May, Jun, Jul, Aug, Sep, Oct, Nov, Dec, night]\n",
       "Index: []\n",
       "\n",
       "[0 rows x 27 columns]"
      ]
     },
     "execution_count": 3,
     "metadata": {},
     "output_type": "execute_result"
    }
   ],
   "source": [
    "data['night'] = 0\n",
    "data.loc[data.day!=1, 'night'] = 1"
   ]
  },
  {
   "cell_type": "code",
   "execution_count": 4,
   "metadata": {},
   "outputs": [],
   "source": [
    "# Split data into train and test sets\n",
    "X = data.drop(columns=['Temp_c', 'Date'])\n",
    "y = data[['Temp_c']]\n",
    "\n",
    "X_train, X_test, y_train, y_test = train_test_split(X, y, test_size=0.2, random_state=42)\n"
   ]
  },
  {
   "cell_type": "code",
   "execution_count": 5,
   "metadata": {},
   "outputs": [],
   "source": [
    "# Scale traing data, then use the scaler fitted on training data to scaled the test set\n",
    "X_scaler = MinMaxScaler()\n",
    "y_scaler = MinMaxScaler()\n",
    "\n",
    "\n",
    "X_scaler.fit(X_train)\n",
    "X_train = X_scaler.transform(X_train)\n",
    "X_test = X_scaler.transform(X_test)\n",
    "\n",
    "y_scaler.fit(y_train)\n",
    "y_train = y_scaler.transform(y_train)\n",
    "y_test = y_scaler.transform(y_test)"
   ]
  },
  {
   "cell_type": "code",
   "execution_count": 6,
   "metadata": {},
   "outputs": [
    {
     "name": "stdout",
     "output_type": "stream",
     "text": [
      "Epoch 1/100\n",
      "156/156 [==============================] - 2s 6ms/step - loss: 0.0440 - val_loss: 0.0081\n",
      "Epoch 2/100\n",
      "156/156 [==============================] - 1s 4ms/step - loss: 0.0053 - val_loss: 0.0044\n",
      "Epoch 3/100\n",
      "156/156 [==============================] - 1s 4ms/step - loss: 0.0033 - val_loss: 0.0030\n",
      "Epoch 4/100\n",
      "156/156 [==============================] - 1s 4ms/step - loss: 0.0024 - val_loss: 0.0022\n",
      "Epoch 5/100\n",
      "156/156 [==============================] - 1s 4ms/step - loss: 0.0018 - val_loss: 0.0017\n",
      "Epoch 6/100\n",
      "156/156 [==============================] - 1s 4ms/step - loss: 0.0014 - val_loss: 0.0014\n",
      "Epoch 7/100\n",
      "156/156 [==============================] - 1s 4ms/step - loss: 0.0012 - val_loss: 0.0012\n",
      "Epoch 8/100\n",
      "156/156 [==============================] - 1s 3ms/step - loss: 0.0010 - val_loss: 0.0011\n",
      "Epoch 9/100\n",
      "156/156 [==============================] - 1s 4ms/step - loss: 9.2321e-04 - val_loss: 9.1649e-04\n",
      "Epoch 10/100\n",
      "156/156 [==============================] - 1s 4ms/step - loss: 8.0476e-04 - val_loss: 8.8467e-04\n",
      "Epoch 11/100\n",
      "156/156 [==============================] - 1s 4ms/step - loss: 7.2536e-04 - val_loss: 7.5857e-04\n",
      "Epoch 12/100\n",
      "156/156 [==============================] - 1s 4ms/step - loss: 6.4300e-04 - val_loss: 7.9408e-04\n",
      "Epoch 13/100\n",
      "156/156 [==============================] - 1s 4ms/step - loss: 5.8516e-04 - val_loss: 6.7198e-04\n",
      "Epoch 14/100\n",
      "156/156 [==============================] - 1s 4ms/step - loss: 5.4465e-04 - val_loss: 5.8490e-04\n",
      "Epoch 15/100\n",
      "156/156 [==============================] - 1s 4ms/step - loss: 5.1816e-04 - val_loss: 5.5800e-04\n",
      "Epoch 16/100\n",
      "156/156 [==============================] - 1s 4ms/step - loss: 4.8197e-04 - val_loss: 4.8267e-04\n",
      "Epoch 17/100\n",
      "156/156 [==============================] - 1s 4ms/step - loss: 4.4231e-04 - val_loss: 4.9092e-04\n",
      "Epoch 18/100\n",
      "156/156 [==============================] - 1s 4ms/step - loss: 3.9968e-04 - val_loss: 4.3724e-04\n",
      "Epoch 19/100\n",
      "156/156 [==============================] - 1s 4ms/step - loss: 3.7607e-04 - val_loss: 4.2782e-04\n",
      "Epoch 20/100\n",
      "156/156 [==============================] - 1s 4ms/step - loss: 3.6964e-04 - val_loss: 4.2139e-04\n",
      "Epoch 21/100\n",
      "156/156 [==============================] - 1s 3ms/step - loss: 3.3351e-04 - val_loss: 3.6451e-04\n",
      "Epoch 22/100\n",
      "156/156 [==============================] - 1s 4ms/step - loss: 3.2686e-04 - val_loss: 4.2944e-04\n",
      "Epoch 23/100\n",
      "156/156 [==============================] - 1s 3ms/step - loss: 3.1150e-04 - val_loss: 3.9034e-04\n",
      "Epoch 24/100\n",
      "156/156 [==============================] - 1s 4ms/step - loss: 2.9371e-04 - val_loss: 3.4014e-04\n",
      "Epoch 25/100\n",
      "156/156 [==============================] - 1s 4ms/step - loss: 2.7813e-04 - val_loss: 3.3772e-04\n",
      "Epoch 26/100\n",
      "156/156 [==============================] - 1s 4ms/step - loss: 2.7052e-04 - val_loss: 3.1351e-04\n",
      "Epoch 27/100\n",
      "156/156 [==============================] - 1s 3ms/step - loss: 2.6116e-04 - val_loss: 2.8347e-04\n",
      "Epoch 28/100\n",
      "156/156 [==============================] - 1s 4ms/step - loss: 2.7095e-04 - val_loss: 3.8675e-04\n",
      "Epoch 29/100\n",
      "156/156 [==============================] - 1s 3ms/step - loss: 2.5338e-04 - val_loss: 2.6940e-04\n",
      "Epoch 30/100\n",
      "156/156 [==============================] - 1s 4ms/step - loss: 2.4802e-04 - val_loss: 3.4922e-04\n",
      "Epoch 31/100\n",
      "156/156 [==============================] - 1s 4ms/step - loss: 2.4439e-04 - val_loss: 2.6283e-04\n",
      "Epoch 32/100\n",
      "156/156 [==============================] - 1s 4ms/step - loss: 2.2690e-04 - val_loss: 2.7810e-04\n",
      "Epoch 33/100\n",
      "156/156 [==============================] - 1s 4ms/step - loss: 2.2924e-04 - val_loss: 3.1444e-04\n",
      "Epoch 34/100\n",
      "156/156 [==============================] - 1s 4ms/step - loss: 2.2714e-04 - val_loss: 2.6058e-04\n",
      "Epoch 35/100\n",
      "156/156 [==============================] - 1s 4ms/step - loss: 2.0666e-04 - val_loss: 2.7590e-04\n",
      "Epoch 36/100\n",
      "156/156 [==============================] - 1s 4ms/step - loss: 2.0305e-04 - val_loss: 2.2261e-04\n",
      "Epoch 37/100\n",
      "156/156 [==============================] - 1s 4ms/step - loss: 1.9625e-04 - val_loss: 2.4495e-04\n",
      "Epoch 38/100\n",
      "156/156 [==============================] - 1s 4ms/step - loss: 1.9172e-04 - val_loss: 2.8184e-04\n",
      "Epoch 39/100\n",
      "156/156 [==============================] - 1s 4ms/step - loss: 1.8482e-04 - val_loss: 2.1024e-04\n",
      "Epoch 40/100\n",
      "156/156 [==============================] - 1s 3ms/step - loss: 1.9738e-04 - val_loss: 2.8109e-04\n",
      "Epoch 41/100\n",
      "156/156 [==============================] - 1s 4ms/step - loss: 1.7566e-04 - val_loss: 2.1238e-04\n",
      "Epoch 42/100\n",
      "156/156 [==============================] - 1s 4ms/step - loss: 1.7173e-04 - val_loss: 1.9002e-04\n",
      "Epoch 43/100\n",
      "156/156 [==============================] - 1s 4ms/step - loss: 1.6009e-04 - val_loss: 1.7407e-04\n",
      "Epoch 44/100\n",
      "156/156 [==============================] - 1s 3ms/step - loss: 1.4990e-04 - val_loss: 2.2271e-04\n",
      "Epoch 45/100\n",
      "156/156 [==============================] - 0s 3ms/step - loss: 1.4901e-04 - val_loss: 1.8440e-04\n",
      "Epoch 46/100\n",
      "156/156 [==============================] - 0s 2ms/step - loss: 1.5530e-04 - val_loss: 1.5994e-04\n",
      "Epoch 47/100\n",
      "156/156 [==============================] - 0s 2ms/step - loss: 1.4089e-04 - val_loss: 1.6277e-04\n",
      "Epoch 48/100\n",
      "156/156 [==============================] - 0s 2ms/step - loss: 1.3915e-04 - val_loss: 2.0926e-04\n",
      "Epoch 49/100\n",
      "156/156 [==============================] - 0s 3ms/step - loss: 1.3902e-04 - val_loss: 1.5996e-04\n",
      "Epoch 50/100\n",
      "156/156 [==============================] - 0s 3ms/step - loss: 1.4481e-04 - val_loss: 1.5090e-04\n",
      "Epoch 51/100\n",
      "156/156 [==============================] - 1s 3ms/step - loss: 1.3252e-04 - val_loss: 1.5220e-04\n",
      "Epoch 52/100\n",
      "156/156 [==============================] - 1s 4ms/step - loss: 1.3203e-04 - val_loss: 1.4338e-04\n",
      "Epoch 53/100\n",
      "156/156 [==============================] - 1s 4ms/step - loss: 1.2580e-04 - val_loss: 1.5485e-04\n",
      "Epoch 54/100\n",
      "156/156 [==============================] - 1s 4ms/step - loss: 1.2497e-04 - val_loss: 1.3695e-04\n",
      "Epoch 55/100\n",
      "156/156 [==============================] - 1s 4ms/step - loss: 1.1905e-04 - val_loss: 1.4820e-04\n",
      "Epoch 56/100\n",
      "156/156 [==============================] - 1s 4ms/step - loss: 1.1037e-04 - val_loss: 1.3728e-04\n",
      "Epoch 57/100\n",
      "156/156 [==============================] - 1s 4ms/step - loss: 1.1717e-04 - val_loss: 1.1776e-04\n",
      "Epoch 58/100\n",
      "156/156 [==============================] - 1s 3ms/step - loss: 1.0999e-04 - val_loss: 1.6447e-04\n",
      "Epoch 59/100\n",
      "156/156 [==============================] - 0s 3ms/step - loss: 1.0887e-04 - val_loss: 1.0475e-04\n",
      "Epoch 60/100\n",
      "156/156 [==============================] - 1s 4ms/step - loss: 1.0190e-04 - val_loss: 1.0596e-04\n",
      "Epoch 61/100\n",
      "156/156 [==============================] - 1s 4ms/step - loss: 9.7825e-05 - val_loss: 1.1890e-04\n",
      "Epoch 62/100\n",
      "156/156 [==============================] - 1s 4ms/step - loss: 1.0341e-04 - val_loss: 1.0943e-04\n",
      "Epoch 63/100\n",
      "156/156 [==============================] - 1s 4ms/step - loss: 9.7246e-05 - val_loss: 1.2771e-04\n",
      "Epoch 64/100\n",
      "156/156 [==============================] - 1s 4ms/step - loss: 8.3657e-05 - val_loss: 1.5697e-04\n",
      "Epoch 65/100\n",
      "156/156 [==============================] - 1s 4ms/step - loss: 1.0083e-04 - val_loss: 1.0769e-04\n",
      "Epoch 66/100\n",
      "156/156 [==============================] - 1s 4ms/step - loss: 8.7273e-05 - val_loss: 1.2266e-04\n",
      "Epoch 67/100\n",
      "156/156 [==============================] - 1s 4ms/step - loss: 8.8157e-05 - val_loss: 1.3944e-04\n",
      "Epoch 68/100\n",
      "156/156 [==============================] - 0s 3ms/step - loss: 8.4637e-05 - val_loss: 1.2605e-04\n",
      "Epoch 69/100\n",
      "156/156 [==============================] - 1s 3ms/step - loss: 7.6520e-05 - val_loss: 9.3398e-05\n",
      "Epoch 70/100\n",
      "156/156 [==============================] - 1s 3ms/step - loss: 7.9971e-05 - val_loss: 8.4682e-05\n",
      "Epoch 71/100\n",
      "156/156 [==============================] - 1s 4ms/step - loss: 7.9677e-05 - val_loss: 8.4324e-05\n",
      "Epoch 72/100\n",
      "156/156 [==============================] - 1s 4ms/step - loss: 7.8146e-05 - val_loss: 9.4878e-05\n",
      "Epoch 73/100\n",
      "156/156 [==============================] - 1s 3ms/step - loss: 8.3507e-05 - val_loss: 1.9525e-04\n",
      "Epoch 74/100\n",
      "156/156 [==============================] - 1s 4ms/step - loss: 8.6192e-05 - val_loss: 8.0802e-05\n",
      "Epoch 75/100\n",
      "156/156 [==============================] - 1s 4ms/step - loss: 8.9411e-05 - val_loss: 8.4444e-05\n",
      "Epoch 76/100\n",
      "156/156 [==============================] - 1s 4ms/step - loss: 7.3530e-05 - val_loss: 9.2011e-05\n",
      "Epoch 77/100\n",
      "156/156 [==============================] - 1s 4ms/step - loss: 7.0284e-05 - val_loss: 8.7954e-05\n",
      "Epoch 78/100\n",
      "156/156 [==============================] - 1s 4ms/step - loss: 7.8042e-05 - val_loss: 7.9726e-05\n",
      "Epoch 79/100\n",
      "156/156 [==============================] - 1s 4ms/step - loss: 6.7639e-05 - val_loss: 7.4118e-05\n",
      "Epoch 80/100\n",
      "156/156 [==============================] - 1s 4ms/step - loss: 7.3608e-05 - val_loss: 7.2094e-05\n",
      "Epoch 81/100\n",
      "156/156 [==============================] - 1s 4ms/step - loss: 8.6878e-05 - val_loss: 8.7295e-05\n",
      "Epoch 82/100\n",
      "156/156 [==============================] - 1s 4ms/step - loss: 7.3038e-05 - val_loss: 1.0051e-04\n",
      "Epoch 83/100\n",
      "156/156 [==============================] - 1s 4ms/step - loss: 7.5028e-05 - val_loss: 1.0490e-04\n",
      "Epoch 84/100\n",
      "156/156 [==============================] - 1s 4ms/step - loss: 6.5306e-05 - val_loss: 6.7122e-05\n",
      "Epoch 85/100\n",
      "156/156 [==============================] - 1s 4ms/step - loss: 6.0145e-05 - val_loss: 9.6320e-05\n",
      "Epoch 86/100\n",
      "156/156 [==============================] - 1s 4ms/step - loss: 6.2853e-05 - val_loss: 6.5469e-05\n",
      "Epoch 87/100\n",
      "156/156 [==============================] - 1s 3ms/step - loss: 6.2658e-05 - val_loss: 6.4204e-05\n",
      "Epoch 88/100\n",
      "156/156 [==============================] - 1s 4ms/step - loss: 5.6059e-05 - val_loss: 7.2717e-05\n",
      "Epoch 89/100\n",
      "156/156 [==============================] - 1s 3ms/step - loss: 6.5895e-05 - val_loss: 7.0006e-05\n",
      "Epoch 90/100\n",
      "156/156 [==============================] - 1s 4ms/step - loss: 6.7852e-05 - val_loss: 6.1747e-05\n",
      "Epoch 91/100\n",
      "156/156 [==============================] - 0s 3ms/step - loss: 6.3733e-05 - val_loss: 6.7043e-05\n",
      "Epoch 92/100\n",
      "156/156 [==============================] - 0s 3ms/step - loss: 6.1543e-05 - val_loss: 7.1039e-05\n",
      "Epoch 93/100\n",
      "156/156 [==============================] - 0s 3ms/step - loss: 5.4743e-05 - val_loss: 7.1630e-05\n",
      "Epoch 94/100\n",
      "156/156 [==============================] - 0s 3ms/step - loss: 7.0023e-05 - val_loss: 6.4901e-05\n",
      "Epoch 95/100\n",
      "156/156 [==============================] - 0s 2ms/step - loss: 5.1683e-05 - val_loss: 5.8477e-05\n",
      "Epoch 96/100\n",
      "156/156 [==============================] - 0s 3ms/step - loss: 5.6948e-05 - val_loss: 1.0601e-04\n",
      "Epoch 97/100\n",
      "156/156 [==============================] - 1s 3ms/step - loss: 5.7508e-05 - val_loss: 8.1371e-05\n",
      "Epoch 98/100\n",
      "156/156 [==============================] - 0s 3ms/step - loss: 5.3730e-05 - val_loss: 6.9777e-05\n",
      "Epoch 99/100\n",
      "156/156 [==============================] - 0s 3ms/step - loss: 5.7652e-05 - val_loss: 6.6630e-05\n",
      "Epoch 100/100\n",
      "156/156 [==============================] - 0s 3ms/step - loss: 5.1466e-05 - val_loss: 6.9829e-05\n"
     ]
    },
    {
     "data": {
      "text/plain": [
       "<keras.callbacks.History at 0x23960215d90>"
      ]
     },
     "execution_count": 6,
     "metadata": {},
     "output_type": "execute_result"
    }
   ],
   "source": [
    "# Create the NN model\n",
    "tf.random.set_seed(42)\n",
    "model = kr.Sequential()\n",
    "\n",
    "model.add(Dense(32, input_shape=(25,), activation=\"relu\"))\n",
    "model.add(Dense(8, activation='relu'))\n",
    "model.add(Dense(1, activation='linear'))\n",
    "\n",
    "model.compile(optimizer=kr.optimizers.Adam(), loss='mse')\n",
    "\n",
    "model.fit(X_train, y_train, epochs=100, validation_split=0.2)"
   ]
  },
  {
   "cell_type": "code",
   "execution_count": 7,
   "metadata": {},
   "outputs": [
    {
     "data": {
      "text/plain": [
       "dict_keys(['loss', 'val_loss'])"
      ]
     },
     "execution_count": 7,
     "metadata": {},
     "output_type": "execute_result"
    }
   ],
   "source": [
    "history = model.history.history\n",
    "history.keys()"
   ]
  },
  {
   "cell_type": "code",
   "execution_count": 8,
   "metadata": {},
   "outputs": [
    {
     "data": {
      "image/png": "[encoded data removed]",
      "text/plain": [
       "<Figure size 432x288 with 1 Axes>"
      ]
     },
     "metadata": {},
     "output_type": "display_data"
    }
   ],
   "source": [
    "plt.plot(history['loss'], label='Train Loss')\n",
    "plt.plot(history['val_loss'], label='Val Loss')\n",
    "plt.legend()\n",
    "plt.show()"
   ]
  },
  {
   "cell_type": "code",
   "execution_count": 9,
   "metadata": {},
   "outputs": [
    {
     "data": {
      "text/plain": [
       "5.146581315784715e-05"
      ]
     },
     "execution_count": 9,
     "metadata": {},
     "output_type": "execute_result"
    }
   ],
   "source": [
    "history['loss'][-1]"
   ]
  },
  {
   "cell_type": "code",
   "execution_count": 11,
   "metadata": {},
   "outputs": [
    {
     "name": "stdout",
     "output_type": "stream",
     "text": [
      "49/49 [==============================] - 0s 2ms/step\n"
     ]
    },
    {
     "data": {
      "text/plain": [
       "array([[0.5551212 ],\n",
       "       [0.14903167],\n",
       "       [0.60501564],\n",
       "       [0.55339813],\n",
       "       [0.35237384],\n",
       "       [0.15475106],\n",
       "       [0.3720378 ],\n",
       "       [0.3747143 ],\n",
       "       [0.525044  ],\n",
       "       [0.47415277]], dtype=float32)"
      ]
     },
     "execution_count": 11,
     "metadata": {},
     "output_type": "execute_result"
    }
   ],
   "source": [
    "pred = model.predict(X_test)\n",
    "pred[:10]"
   ]
  },
  {
   "cell_type": "code",
   "execution_count": 13,
   "metadata": {},
   "outputs": [
    {
     "data": {
      "text/plain": [
       "array([[0.55483871],\n",
       "       [0.15268817],\n",
       "       [0.60860215],\n",
       "       [0.5655914 ],\n",
       "       [0.35913978],\n",
       "       [0.15698925],\n",
       "       [0.37419355],\n",
       "       [0.37419355],\n",
       "       [0.53333333],\n",
       "       [0.46451613]])"
      ]
     },
     "execution_count": 13,
     "metadata": {},
     "output_type": "execute_result"
    }
   ],
   "source": [
    "y_test[:10]"
   ]
  },
  {
   "cell_type": "code",
   "execution_count": 59,
   "metadata": {},
   "outputs": [
    {
     "data": {
      "text/plain": [
       "<AxesSubplot:>"
      ]
     },
     "execution_count": 59,
     "metadata": {},
     "output_type": "execute_result"
    },
    {
     "data": {
      "image/png": "[encoded data removed]",
      "text/plain": [
       "<Figure size 432x288 with 1 Axes>"
      ]
     },
     "metadata": {},
     "output_type": "display_data"
    }
   ],
   "source": [
    "fig, ax = plt.subplots()\n",
    "sns.scatterplot(x=list(range(len(y_test))), y=y_test[:, 0], ax=ax, label='True', palette='inferno')\n",
    "sns.lineplot(x=list(range(len(pred))), y=pred[:, 0], ax=ax, label='Pred')"
   ]
  },
  {
   "cell_type": "code",
   "execution_count": 34,
   "metadata": {},
   "outputs": [],
   "source": [
    "# Unscale data\n",
    "unscaled_pred = y_scaler.inverse_transform(pred)\n",
    "unscaled_y_test = y_scaler.inverse_transform(y_test)"
   ]
  },
  {
   "cell_type": "code",
   "execution_count": 36,
   "metadata": {},
   "outputs": [
    {
     "data": {
      "text/plain": [
       "array([[23.913134 ],\n",
       "       [ 5.0299726],\n",
       "       [26.233227 ],\n",
       "       [23.833012 ],\n",
       "       [14.485384 ],\n",
       "       [ 5.2959247],\n",
       "       [15.399758 ],\n",
       "       [15.524215 ],\n",
       "       [22.514547 ],\n",
       "       [20.148104 ]], dtype=float32)"
      ]
     },
     "execution_count": 36,
     "metadata": {},
     "output_type": "execute_result"
    }
   ],
   "source": [
    "unscaled_pred[:10]"
   ]
  },
  {
   "cell_type": "code",
   "execution_count": 37,
   "metadata": {},
   "outputs": [
    {
     "data": {
      "text/plain": [
       "array([[23.9],\n",
       "       [ 5.2],\n",
       "       [26.4],\n",
       "       [24.4],\n",
       "       [14.8],\n",
       "       [ 5.4],\n",
       "       [15.5],\n",
       "       [15.5],\n",
       "       [22.9],\n",
       "       [19.7]])"
      ]
     },
     "execution_count": 37,
     "metadata": {},
     "output_type": "execute_result"
    }
   ],
   "source": [
    "unscaled_y_test[:10]"
   ]
  },
  {
   "cell_type": "code",
   "execution_count": 39,
   "metadata": {},
   "outputs": [
    {
     "data": {
      "text/plain": [
       "0.9981056907362676"
      ]
     },
     "execution_count": 39,
     "metadata": {},
     "output_type": "execute_result"
    }
   ],
   "source": [
    "r2_score(unscaled_y_test, unscaled_pred)"
   ]
  },
  {
   "cell_type": "code",
   "execution_count": 40,
   "metadata": {},
   "outputs": [
    {
     "data": {
      "text/plain": [
       "0.15147372567362186"
      ]
     },
     "execution_count": 40,
     "metadata": {},
     "output_type": "execute_result"
    }
   ],
   "source": [
    "mean_squared_error(unscaled_y_test, unscaled_pred)"
   ]
  },
  {
   "cell_type": "code",
   "execution_count": 41,
   "metadata": {},
   "outputs": [
    {
     "data": {
      "text/plain": [
       "0.3891962559861308"
      ]
     },
     "execution_count": 41,
     "metadata": {},
     "output_type": "execute_result"
    }
   ],
   "source": [
    "np.sqrt(mean_squared_error(unscaled_y_test, unscaled_pred))"
   ]
  },
  {
   "cell_type": "code",
   "execution_count": 44,
   "metadata": {},
   "outputs": [
    {
     "data": {
      "text/plain": [
       "count    1560.000000\n",
       "mean       18.051282\n",
       "std         8.945043\n",
       "min        -1.200000\n",
       "25%        11.300000\n",
       "50%        17.100000\n",
       "75%        24.400000\n",
       "max        42.800000\n",
       "dtype: float64"
      ]
     },
     "execution_count": 44,
     "metadata": {},
     "output_type": "execute_result"
    }
   ],
   "source": [
    "pd.Series(unscaled_y_test.flatten()).describe()"
   ]
  },
  {
   "cell_type": "code",
   "execution_count": null,
   "metadata": {},
   "outputs": [],
   "source": []
  }
 ],
 "metadata": {
  "kernelspec": {
   "display_name": "Python 3.9.12 ('condaVenv1')",
   "language": "python",
   "name": "python3"
  },
  "language_info": {
   "codemirror_mode": {
    "name": "ipython",
    "version": 3
   },
   "file_extension": ".py",
   "mimetype": "text/x-python",
   "name": "python",
   "nbconvert_exporter": "python",
   "pygments_lexer": "ipython3",
   "version": "3.9.12"
  },
  "orig_nbformat": 4,
  "vscode": {
   "interpreter": {
    "hash": "c40bffc5e1f3094dccce16e74277bd4f3a47be7140d1946f25c539d5e02237f4"
   }
  }
 },
 "nbformat": 4,
 "nbformat_minor": 2
}
